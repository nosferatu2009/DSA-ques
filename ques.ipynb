{
 "cells": [
  {
   "cell_type": "code",
   "execution_count": 2,
   "metadata": {},
   "outputs": [
    {
     "name": "stdout",
     "output_type": "stream",
     "text": [
      "[1, 2, 3, 4, 5]\n"
     ]
    }
   ],
   "source": [
    "# to input a list\n",
    "# first method\n",
    "totalItems = int(input(\"Enter no. of elements\"))\n",
    "items = []\n",
    "for i in range(0,totalItems) :\n",
    "  items.append(int(input()))\n",
    "\n",
    "\n",
    "print(items)\n"
   ]
  },
  {
   "cell_type": "code",
   "execution_count": 3,
   "metadata": {},
   "outputs": [
    {
     "name": "stdout",
     "output_type": "stream",
     "text": [
      "[1, 2, 3, 4, 5]\n"
     ]
    }
   ],
   "source": [
    "items = [int(item) for item in input(\"Enter items\").split()]\n",
    "print(items)"
   ]
  },
  {
   "cell_type": "code",
   "execution_count": 6,
   "metadata": {},
   "outputs": [
    {
     "data": {
      "text/plain": [
       "'key not found'"
      ]
     },
     "execution_count": 6,
     "metadata": {},
     "output_type": "execute_result"
    }
   ],
   "source": [
    "# linear search \n",
    "# o(1) O(N)\n",
    "def linearSearch(arr,n,key) :\n",
    "    for i in range(0,n):\n",
    "        if arr[i] == key :return str.format(\"key {} is found at position {}\",key,i)\n",
    "            \n",
    "\n",
    "    return \"key not found\"\n",
    "\n",
    "\n",
    "items = [int(item) for item in input(\"Enter items\").split()]\n",
    "\n",
    "key = int(input(\"Enter the key : \"))\n",
    "\n",
    "linearSearch(items,len(items),key)\n"
   ]
  },
  {
   "cell_type": "code",
   "execution_count": 8,
   "metadata": {},
   "outputs": [
    {
     "data": {
      "text/plain": [
       "'Key not found'"
      ]
     },
     "execution_count": 8,
     "metadata": {},
     "output_type": "execute_result"
    }
   ],
   "source": [
    "# binary search ---> array should be sorted , the method search values by repeadlty breaking the array in half intervals \n",
    "# O(1),O(logn)\n",
    "# iterative approach\n",
    "def binarySearch(arr,leftIndex,rightIndex,key) :\n",
    "\n",
    "    while leftIndex <= rightIndex :\n",
    "        mid = leftIndex + rightIndex // 2\n",
    "\n",
    "        if arr[mid] == key :\n",
    "            return str.format(\"key {} is found at position {}\",key,mid)\n",
    "        elif arr[mid] > key :\n",
    "             rightIndex = mid - 1 \n",
    "        else :\n",
    "            leftIndex = mid + 1\n",
    "\n",
    "    return \"Key not found\"        \n",
    "                       \n",
    "\n",
    "items = [int(item) for item in input(\"Enter items\").split()]\n",
    "\n",
    "key = int(input(\"Enter the key : \"))\n",
    "\n",
    "binarySearch(items,0,len(items),key)"
   ]
  },
  {
   "cell_type": "code",
   "execution_count": 10,
   "metadata": {},
   "outputs": [
    {
     "data": {
      "text/plain": [
       "'Key not found'"
      ]
     },
     "execution_count": 10,
     "metadata": {},
     "output_type": "execute_result"
    }
   ],
   "source": [
    "# recursive approach for binary search\n",
    "\n",
    "def binarySearch(arr,leftIndex,rightIndex,key) :\n",
    "\n",
    "    if leftIndex <= rightIndex :\n",
    "        mid = leftIndex + rightIndex // 2\n",
    "\n",
    "        if arr[mid] == key :\n",
    "            return str.format(\"key {} is found at position {}\",key,mid)\n",
    "        elif arr[mid] > key :\n",
    "            binarySearch(arr,leftIndex,mid - 1,key) \n",
    "        else :\n",
    "            binarySearch(arr,mid+1,rightIndex,key)\n",
    "\n",
    "    return \"Key not found\"        \n",
    "                       \n",
    "\n",
    "items = [int(item) for item in input(\"Enter items\").split()]\n",
    "\n",
    "key = int(input(\"Enter the key : \"))\n",
    "\n",
    "binarySearch(items,0,len(items),key)\n"
   ]
  },
  {
   "cell_type": "code",
   "execution_count": 12,
   "metadata": {},
   "outputs": [
    {
     "name": "stdout",
     "output_type": "stream",
     "text": [
      "1\n",
      "2\n",
      "3\n"
     ]
    }
   ],
   "source": [
    "# Given three Sorted arrays in non-decreasing order, print all common elements in these arrays.\n",
    "# O(n2) first approach\n",
    "def printCommonElements(arr1,arr2,arr3):\n",
    "    \n",
    "    commonElementsof1and2Arrays = []\n",
    "    for i in range(0,len(arr1)) : \n",
    "        for j in range(0,len(arr2)) :\n",
    "            if arr1[i] == arr2[j] :\n",
    "                commonElementsof1and2Arrays.append(arr1[i])\n",
    "\n",
    "    for i in range(0,len(commonElementsof1and2Arrays)) : \n",
    "        for j in range(0,len(arr3)) :\n",
    "            if commonElementsof1and2Arrays[i] == arr3[j] :\n",
    "                print(arr3[j])          \n",
    "            \n",
    "\n",
    "arr1 = [int(item) for item in input(\"Enter items for first array\").split()]\n",
    "\n",
    "arr2 = [int(item) for item in input(\"Enter items for second array\").split()]\n",
    "\n",
    "arr3 = [int(item) for item in input(\"Enter items for third array\").split()]\n",
    "\n",
    "printCommonElements(arr1,arr2,arr3)\n"
   ]
  },
  {
   "cell_type": "code",
   "execution_count": 17,
   "metadata": {},
   "outputs": [
    {
     "name": "stdout",
     "output_type": "stream",
     "text": [
      "i 1j 0k 0\n",
      "i 1j 0k 1\n",
      "i 1j 0k 2\n"
     ]
    }
   ],
   "source": [
    "def printCommonElements(arr1,arr2,arr3):\n",
    "    \n",
    "    i,j,k=0,0,0\n",
    "\n",
    "    while i < len(arr1) and j < len(arr2) and k < len(arr3) :\n",
    "        if arr1[i] == arr2[j] == arr3[k]:\n",
    "            print(arr1[i])\n",
    "            i = i + 1\n",
    "            j = j + 1\n",
    "            k = k + 1\n",
    "\n",
    "        elif arr1[i] < arr2[j] :\n",
    "             i = i + 1\n",
    "        elif arr2[j] < arr3[k] :\n",
    "            j =  j + 1\n",
    "        else :\n",
    "            k = k + 1   \n",
    "\n",
    "        print(\"i \" + str(i) + \"j \" + str(j) + \"k \" + str(k))    \n",
    "\n",
    "\n",
    "\n",
    "arr1 = [int(item) for item in input(\"Enter items for first array\").split()]\n",
    "\n",
    "arr2 = [int(item) for item in input(\"Enter items for second array\").split()]\n",
    "\n",
    "arr3 = [int(item) for item in input(\"Enter items for third array\").split()]\n",
    "\n",
    "printCommonElements(arr1,arr2,arr3)"
   ]
  },
  {
   "cell_type": "code",
   "execution_count": 3,
   "metadata": {},
   "outputs": [
    {
     "data": {
      "text/plain": [
       "True"
      ]
     },
     "execution_count": 3,
     "metadata": {},
     "output_type": "execute_result"
    }
   ],
   "source": [
    "# Given an array arr of N elements,  A majority element in an array arr of size N is an element that appears more than N/2 times in the array. \n",
    "# The task is to write a function say isMajority() that takes an array (arr[] ), array’s size (n) \n",
    "# and a number to be searched (x) as parameters and returns true if x is a majority element (present more than n/2 times).\n",
    "\n",
    "def isMajority(arr,n,x) :\n",
    "    \n",
    "    cnt = 0 \n",
    "    for i in range(0,n):\n",
    "        if arr[i] == x :\n",
    "            cnt = cnt + 1\n",
    "    \n",
    "    if cnt > n/2 :\n",
    "        return True\n",
    "    \n",
    "    return False\n",
    "\n",
    "arr = [int(item) for item in input(\"Enter arr\").split()]\n",
    "x = int(input(\"Enter the element to check\"))\n",
    "isMajority(arr,len(arr),x)"
   ]
  },
  {
   "cell_type": "code",
   "execution_count": 17,
   "metadata": {},
   "outputs": [
    {
     "name": "stdout",
     "output_type": "stream",
     "text": [
      "5\n",
      "6\n"
     ]
    }
   ],
   "source": [
    "# Write a program to print all the LEADERS in the array. An element is a leader if it is greater \n",
    "# than all the elements to its right side. And the rightmost element is always a leader. \n",
    "\n",
    "def getLeaders(arr,n):\n",
    "    \n",
    "    greatest = arr[n-1]\n",
    "    for i in range(0,n):\n",
    "        if arr[n-i-1] >= greatest :\n",
    "            greatest = arr[n-i-1]\n",
    "            print(greatest)\n",
    "\n",
    "\n",
    "arr = [int(item) for item in input(\"Enter arr\").split()]\n",
    "getLeaders(arr,len(arr))"
   ]
  },
  {
   "cell_type": "code",
   "execution_count": 33,
   "metadata": {},
   "outputs": [
    {
     "name": "stdout",
     "output_type": "stream",
     "text": [
      "-1\n"
     ]
    }
   ],
   "source": [
    "# print equilibirum index of array left sum === rightsum\n",
    "#  -7 0\n",
    "\n",
    "def findEquilibrium(arr,n):\n",
    "    leftsum = arr[0]\n",
    "    sum = 0\n",
    "\n",
    "    for i in range(0,n) :\n",
    "        sum = sum + arr[i]\n",
    "\n",
    "    for i in range(0,n):\n",
    "        sum = sum - arr[i]\n",
    "        \n",
    "        if leftsum == sum :\n",
    "            return i \n",
    "        \n",
    "        if(i != 0) :\n",
    "            leftsum = leftsum + arr[i]\n",
    "\n",
    " \n",
    "\n",
    "    return -1    \n",
    "\n",
    "arr = [int(item) for item in input(\"Enter array elements\").split()]\n",
    "print(findEquilibrium(arr,len(arr)))"
   ]
  },
  {
   "cell_type": "code",
   "execution_count": 3,
   "metadata": {},
   "outputs": [
    {
     "data": {
      "text/plain": [
       "'Traingle is valid'"
      ]
     },
     "execution_count": 3,
     "metadata": {},
     "output_type": "execute_result"
    }
   ],
   "source": [
    "# to print valid triangle \n",
    "# logic sum of two side should be greater than third one\n",
    "\n",
    "def IsTriangleValid(a,b,c) :\n",
    "    if a + b >=c or a +c >b or b+c >a :\n",
    "        return \"Traingle is valid\"\n",
    "    else :\n",
    "        return \"Traingle is Invalid\"\n",
    "\n",
    "\n",
    "IsTriangleValid(1,1,1)    \n"
   ]
  },
  {
   "cell_type": "code",
   "execution_count": 5,
   "metadata": {},
   "outputs": [
    {
     "name": "stdout",
     "output_type": "stream",
     "text": [
      "Factorial is 120\n"
     ]
    }
   ],
   "source": [
    "# Find a factorial naive approach\n",
    "\n",
    "def FindFactorial(n):\n",
    "    fact = 1\n",
    "    for i in range(1,n+1) :\n",
    "        fact = fact * i\n",
    "\n",
    "    return fact    \n",
    "\n",
    "\n",
    "n = int(input(\"Enter number\"))\n",
    "\n",
    "print(\"Factorial is \" + str(FindFactorial(n)))\n"
   ]
  },
  {
   "cell_type": "code",
   "execution_count": 6,
   "metadata": {},
   "outputs": [
    {
     "name": "stdout",
     "output_type": "stream",
     "text": [
      "Factorial is 120\n"
     ]
    }
   ],
   "source": [
    "# factorial recursive approach\n",
    "def FindFactorial(n):\n",
    "    \n",
    "    if n == 0 :\n",
    "        return 1\n",
    "\n",
    "    return n * FindFactorial(n-1)\n",
    "\n",
    "\n",
    "n = int(input(\"Enter number\"))\n",
    "\n",
    "print(\"Factorial is \" + str(FindFactorial(n)))"
   ]
  }
 ],
 "metadata": {
  "kernelspec": {
   "display_name": "Python 3",
   "language": "python",
   "name": "python3"
  },
  "language_info": {
   "codemirror_mode": {
    "name": "ipython",
    "version": 3
   },
   "file_extension": ".py",
   "mimetype": "text/x-python",
   "name": "python",
   "nbconvert_exporter": "python",
   "pygments_lexer": "ipython3",
   "version": "3.9.6 (default, Oct 18 2022, 12:41:40) \n[Clang 14.0.0 (clang-1400.0.29.202)]"
  },
  "orig_nbformat": 4,
  "vscode": {
   "interpreter": {
    "hash": "31f2aee4e71d21fbe5cf8b01ff0e069b9275f58929596ceb00d14d90e3e16cd6"
   }
  }
 },
 "nbformat": 4,
 "nbformat_minor": 2
}
